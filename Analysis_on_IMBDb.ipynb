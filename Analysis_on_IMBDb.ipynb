{
  "nbformat": 4,
  "nbformat_minor": 0,
  "metadata": {
    "colab": {
      "provenance": [],
      "authorship_tag": "ABX9TyOwCwN7U1bG6MoNOShuTlGp",
      "include_colab_link": true
    },
    "kernelspec": {
      "name": "python3",
      "display_name": "Python 3"
    },
    "language_info": {
      "name": "python"
    }
  },
  "cells": [
    {
      "cell_type": "markdown",
      "metadata": {
        "id": "view-in-github",
        "colab_type": "text"
      },
      "source": [
        "<a href=\"https://colab.research.google.com/github/Melaniam123/amateurcoder/blob/main/Analysis_on_IMBDb.ipynb\" target=\"_parent\"><img src=\"https://colab.research.google.com/assets/colab-badge.svg\" alt=\"Open In Colab\"/></a>"
      ]
    },
    {
      "cell_type": "markdown",
      "source": [
        "# IMDB Movie Analysis using Pyspark\n",
        "\n",
        "Group Assignment </br>\n",
        "ALY 6110 Big Data - MPS Analytics </br>\n",
        "Northeastern University </br>\n",
        "March 23, 2023"
      ],
      "metadata": {
        "id": "gY5ZiCeO6s3q"
      }
    },
    {
      "cell_type": "markdown",
      "source": [
        "#Introduction\n",
        "\n",
        "\n",
        "Dataset - https://www.kaggle.com/datasets/rajugc/imdb-movies-dataset-based-on-genre/code"
      ],
      "metadata": {
        "id": "ydfrPvTe63Fi"
      }
    },
    {
      "cell_type": "markdown",
      "source": [
        "# Now that PySpark is installed, we will create a Spark session using the following:"
      ],
      "metadata": {
        "id": "tAa7CozI3Yz-"
      }
    },
    {
      "cell_type": "code",
      "execution_count": 1,
      "metadata": {
        "colab": {
          "base_uri": "https://localhost:8080/"
        },
        "id": "VEJOc7UHjW7K",
        "outputId": "13610b65-2ad7-4349-ad1a-fc5ef436a068"
      },
      "outputs": [
        {
          "output_type": "stream",
          "name": "stdout",
          "text": [
            "Looking in indexes: https://pypi.org/simple, https://us-python.pkg.dev/colab-wheels/public/simple/\n",
            "Collecting pyspark\n",
            "  Downloading pyspark-3.3.2.tar.gz (281.4 MB)\n",
            "\u001b[2K     \u001b[90m━━━━━━━━━━━━━━━━━━━━━━━━━━━━━━━━━━━━━━━\u001b[0m \u001b[32m281.4/281.4 MB\u001b[0m \u001b[31m2.9 MB/s\u001b[0m eta \u001b[36m0:00:00\u001b[0m\n",
            "\u001b[?25h  Preparing metadata (setup.py) ... \u001b[?25l\u001b[?25hdone\n",
            "Collecting py4j==0.10.9.5\n",
            "  Downloading py4j-0.10.9.5-py2.py3-none-any.whl (199 kB)\n",
            "\u001b[2K     \u001b[90m━━━━━━━━━━━━━━━━━━━━━━━━━━━━━━━━━━━━━━\u001b[0m \u001b[32m199.7/199.7 KB\u001b[0m \u001b[31m11.0 MB/s\u001b[0m eta \u001b[36m0:00:00\u001b[0m\n",
            "\u001b[?25hBuilding wheels for collected packages: pyspark\n",
            "  Building wheel for pyspark (setup.py) ... \u001b[?25l\u001b[?25hdone\n",
            "  Created wheel for pyspark: filename=pyspark-3.3.2-py2.py3-none-any.whl size=281824028 sha256=954f2445fcce2c0e2f9ffa998bd6a6a1c5131518489441a52761f9cb38a8b7b2\n",
            "  Stored in directory: /root/.cache/pip/wheels/6c/e3/9b/0525ce8a69478916513509d43693511463c6468db0de237c86\n",
            "Successfully built pyspark\n",
            "Installing collected packages: py4j, pyspark\n",
            "  Attempting uninstall: py4j\n",
            "    Found existing installation: py4j 0.10.9.7\n",
            "    Uninstalling py4j-0.10.9.7:\n",
            "      Successfully uninstalled py4j-0.10.9.7\n",
            "Successfully installed py4j-0.10.9.5 pyspark-3.3.2\n"
          ]
        }
      ],
      "source": [
        "!pip install pyspark"
      ]
    },
    {
      "cell_type": "code",
      "source": [
        "from pyspark.sql import SparkSession\n",
        "spark = SparkSession.builder.appName('MyApp').getOrCreate()"
      ],
      "metadata": {
        "id": "FhnKXElBjbXR"
      },
      "execution_count": 2,
      "outputs": []
    },
    {
      "cell_type": "code",
      "source": [
        "from pyspark.sql import SparkSession\n",
        "from pyspark.ml.clustering import KMeans\n",
        "from pyspark.ml.feature import VectorAssembler\n",
        "from pyspark.ml.feature import StandardScaler\n",
        "from pyspark.ml.stat import Correlation\n",
        "from pyspark.ml.stat import ChiSquareTest\n",
        "from pyspark.ml.feature import StringIndexer"
      ],
      "metadata": {
        "id": "_NnpsijFjudo"
      },
      "execution_count": 3,
      "outputs": []
    },
    {
      "cell_type": "code",
      "source": [
        "# Mount Google Drive in Google Colab. #Go to file and upload the csv \"clean.csv\"\n",
        "from google.colab import drive\n",
        "drive.mount('/content/drive')\n",
        "\n",
        "# Create a Spark session\n",
        "spark = SparkSession.builder.appName('clean').getOrCreate()"
      ],
      "metadata": {
        "colab": {
          "base_uri": "https://localhost:8080/"
        },
        "id": "DDoePpvIjxzb",
        "outputId": "faaa8f46-97e3-4db1-a793-26f53fdec9c4"
      },
      "execution_count": 4,
      "outputs": [
        {
          "output_type": "stream",
          "name": "stdout",
          "text": [
            "Mounted at /content/drive\n"
          ]
        }
      ]
    },
    {
      "cell_type": "code",
      "source": [
        "# Load the dataset into a PySpark dataframe\n",
        "df = spark.read.csv('/content/drive/MyDrive/clean.csv', header=True, multiLine=True, inferSchema=True).show(5,False)"
      ],
      "metadata": {
        "colab": {
          "base_uri": "https://localhost:8080/"
        },
        "id": "ooYLrktaj46k",
        "outputId": "a9f07173-528b-493d-f7a0-03d5d2314356"
      },
      "execution_count": 5,
      "outputs": [
        {
          "output_type": "stream",
          "name": "stdout",
          "text": [
            "+---------+----------------+----+-----------+-------+--------------------------+------+------+-------------+------------------------------------------------------------------------------------------------------------------------------------------------------------------------------------------------------------------------+----------------+------------+------------------------------------------------------------------------+---------------------------------------+\n",
            "|movie_id |movie_name      |year|certificate|runtime|genre                     |rating|votes |gross_revenue|description                                                                                                                                                                                                             |director        |director_id |star                                                                    |star_id                                |\n",
            "+---------+----------------+----+-----------+-------+--------------------------+------+------+-------------+------------------------------------------------------------------------------------------------------------------------------------------------------------------------------------------------------------------------+----------------+------------+------------------------------------------------------------------------+---------------------------------------+\n",
            "|tt1825683|Black Panther   |2018|PG-13      |134    |Action, Adventure, Sci-Fi |7     |12730 |1018400      |T'Challa, heir to the hidden but advanced kingdom of Wakanda, must step forward to lead his people into a new future and must confront a challenger from his country's past.                                            |Ryan Coogler    |  nm3363032 |Chadwick Boseman, \\nMichael B. Jordan, \\nLupita Nyong'o, \\nDanai Gurira |nm1569276,nm0430107,nm2143282,nm1775091|\n",
            "|tt0092099|Top Gun         |1986|PG         |109    |Action, Drama             |7     |10355 |828400       |As students at the United States Navy's elite fighter weapons school compete to be best in the class, one daring young pilot learns a few things from a civilian instructor that are not taught in the classroom.       |Tony Scott      |  nm0001716 |Tom Cruise, \\nTim Robbins, \\nKelly McGillis, \\nVal Kilmer               |nm0000129,nm0000209,nm0000534,nm0000174|\n",
            "|tt0499549|Avatar          |2009|PG-13      |162    |Action, Adventure, Fantasy|8     |15390 |1231200      |A paraplegic Marine dispatched to the moon Pandora on a unique mission becomes torn between following his orders and protecting the world he feels is his home.                                                         |James Cameron   |  nm0000116 |Sam Worthington, \\nZoe Saldana, \\nSigourney Weaver, \\nMichelle Rodriguez|nm0941777,nm0757855,nm0000244,nm0735442|\n",
            "|tt1392170|The Hunger Games|2012|PG-13      |142    |Action, Adventure, Sci-Fi |7     |13490 |1079200      |Katniss Everdeen voluntarily takes her younger sister's place in the Hunger Games: a televised competition in which two teenagers from each of the twelve Districts of Panem are chosen at random to fight to the death.|Gary Ross       |  nm0002657 |Jennifer Lawrence, \\nJosh Hutcherson, \\nLiam Hemsworth, \\nStanley Tucci |nm2225369,nm1242688,nm2955013,nm0001804|\n",
            "|tt1160419|Dune            |2021|PG-13      |155    |Action, Adventure, Drama  |8     |14725 |1178000      |A noble family becomes embroiled in a war for control over the galaxy's most valuable asset while its heir becomes troubled by visions of a dark future.                                                                |Denis Villeneuve|  nm0898288 |Timothée Chalamet, \\nRebecca Ferguson, \\nZendaya, \\nOscar Isaac         |nm3154303,nm0272581,nm3918035,nm1209966|\n",
            "+---------+----------------+----+-----------+-------+--------------------------+------+------+-------------+------------------------------------------------------------------------------------------------------------------------------------------------------------------------------------------------------------------------+----------------+------------+------------------------------------------------------------------------+---------------------------------------+\n",
            "only showing top 5 rows\n",
            "\n"
          ]
        }
      ]
    },
    {
      "cell_type": "code",
      "source": [
        "# Loading the database "
      ],
      "metadata": {
        "id": "Hqb-GfyFvrwg"
      },
      "execution_count": 6,
      "outputs": []
    },
    {
      "cell_type": "code",
      "source": [
        "df = spark.read \\\n",
        "         .option(\"header\", \"true\") \\\n",
        "         .option(\"multiLine\", \"true\") \\\n",
        "         .csv(\"/content/drive/MyDrive/clean.csv\")\n"
      ],
      "metadata": {
        "id": "LaUtrjnwlAIW"
      },
      "execution_count": 7,
      "outputs": []
    },
    {
      "cell_type": "code",
      "source": [
        "# Cache the DataFrame to improve performance\n",
        "df.show(25)"
      ],
      "metadata": {
        "colab": {
          "base_uri": "https://localhost:8080/"
        },
        "id": "wWwwyGbhkm-w",
        "outputId": "e4032347-4007-4f83-e29f-504df7b1e6d4"
      },
      "execution_count": 8,
      "outputs": [
        {
          "output_type": "stream",
          "name": "stdout",
          "text": [
            "+----------+--------------------+----+-----------+-------+--------------------+------+------+-------------+--------------------+--------------------+------------+--------------------+--------------------+\n",
            "|  movie_id|          movie_name|year|certificate|runtime|               genre|rating|votes |gross_revenue|         description|            director| director_id|                star|             star_id|\n",
            "+----------+--------------------+----+-----------+-------+--------------------+------+------+-------------+--------------------+--------------------+------------+--------------------+--------------------+\n",
            "| tt1825683|       Black Panther|2018|      PG-13|    134|Action, Adventure...|     7| 12730|      1018400|T'Challa, heir to...|        Ryan Coogler|  nm3363032 |Chadwick Boseman,...|nm1569276,nm04301...|\n",
            "| tt0092099|             Top Gun|1986|         PG|    109|       Action, Drama|     7| 10355|       828400|As students at th...|          Tony Scott|  nm0001716 |Tom Cruise, \\nTim...|nm0000129,nm00002...|\n",
            "| tt0499549|              Avatar|2009|      PG-13|    162|Action, Adventure...|     8| 15390|      1231200|A paraplegic Mari...|       James Cameron|  nm0000116 |Sam Worthington, ...|nm0941777,nm07578...|\n",
            "| tt1392170|    The Hunger Games|2012|      PG-13|    142|Action, Adventure...|     7| 13490|      1079200|Katniss Everdeen ...|           Gary Ross|  nm0002657 |Jennifer Lawrence...|nm2225369,nm12426...|\n",
            "| tt1160419|                Dune|2021|      PG-13|    155|Action, Adventure...|     8| 14725|      1178000|A noble family be...|    Denis Villeneuve|  nm0898288 |Timothée Chalamet...|nm3154303,nm02725...|\n",
            "| tt0120737|The Lord of the R...|2001|      PG-13|    178|Action, Adventure...|     9| 16910|      1352800|A meek Hobbit fro...|       Peter Jackson|  nm0001392 |Elijah Wood, \\nIa...|nm0000704,nm00052...|\n",
            "| tt0468569|     The Dark Knight|2008|      PG-13|    152|Action, Crime, Drama|     9| 14440|      1155200|When the menace k...|   Christopher Nolan|  nm0634240 |Christian Bale, \\...|nm0000288,nm00051...|\n",
            "| tt1375666|           Inception|2010|      PG-13|    148|Action, Adventure...|     9| 14060|      1124800|A thief who steal...|   Christopher Nolan|  nm0634240 |Leonardo DiCaprio...|nm0000138,nm03306...|\n",
            "|tt10872600|Spider-Man: No Wa...|2021|      PG-13|    148|Action, Adventure...|     8| 14060|      1124800|With Spider-Man's...|           Jon Watts|  nm1218281 |Tom Holland, \\nZe...|nm4043618,nm39180...|\n",
            "| tt0172495|           Gladiator|2000|          R|    155|Action, Adventure...|     9| 14725|      1178000|A former Roman Ge...|        Ridley Scott|  nm0000631 |Russell Crowe, \\n...|nm0000128,nm00016...|\n",
            "| tt4154796|   Avengers: Endgame|2019|      PG-13|    181|Action, Adventure...|     8| 17195|      1375600|After the devasta...|Anthony Russo, \\n...|  nm0751577 |Robert Downey Jr....|nm0751648,nm00003...|\n",
            "| tt2911666|           John Wick|2014|          R|    101|Action, Crime, Th...|     7|  9595|       767600|An ex-hit-man com...|Chad Stahelski, \\...|  nm0821432 |Keanu Reeves, \\nM...|nm0500610,nm00002...|\n",
            "| tt8367814|       The Gentlemen|2019|          R|    113|Action, Comedy, C...|     8| 10735|       858800|An American expat...|         Guy Ritchie|  nm0005363 |Matthew McConaugh...|nm0000190,nm04022...|\n",
            "| tt1856101|   Blade Runner 2049|2017|          R|    164|Action, Drama, My...|     8| 15580|      1246400|Young Blade Runne...|    Denis Villeneuve|  nm0898288 |Harrison Ford, \\n...|nm0000148,nm03315...|\n",
            "| tt5433138|   F9: The Fast Saga|2021|      PG-13|    143|Action, Crime, Th...|     5| 13585|      1086800|Dom and the crew ...|          Justin Lin|  nm0510912 |Vin Diesel, \\nMic...|nm0004874,nm07354...|\n",
            "| tt7888964|              Nobody|2021|          R|     92|Action, Crime, Drama|     7|  8740|       699200|A docile family m...|     Ilya Naishuller|  nm5820154 |Bob Odenkirk, \\nA...|nm0644022,nm01485...|\n",
            "| tt0133093|          The Matrix|1999|          R|    136|      Action, Sci-Fi|     9| 12920|      1033600|When a beautiful ...|Lana Wachowski, \\...|  nm0905154 |Keanu Reeves, \\nL...|nm0905152,nm00002...|\n",
            "| tt0082971|Raiders of the Lo...|1981|         PG|    115|   Action, Adventure|     8| 10925|       874000|In 1936, archaeol...|    Steven Spielberg|  nm0000229 |Harrison Ford, \\n...|nm0000148,nm00002...|\n",
            "| tt0116629|    Independence Day|1996|      PG-13|    145|Action, Adventure...|     7| 13775|      1102000|The aliens are co...|     Roland Emmerich|  nm0000386 |Will Smith, \\nBil...|nm0000226,nm00005...|\n",
            "| tt0446029|Scott Pilgrim vs....|2010|      PG-13|    112|Action, Comedy, F...|     8| 10640|       851200|In a magically re...|        Edgar Wright|  nm0942367 |Michael Cera, \\nM...|nm0148418,nm09355...|\n",
            "| tt0232500|The Fast and the ...|2001|      PG-13|    106|Action, Crime, Th...|     7| 10070|       805600|Los Angeles polic...|           Rob Cohen|  nm0003418 |Vin Diesel, \\nPau...|nm0004874,nm09080...|\n",
            "| tt0115624|           Barb Wire|1996|          R|     98|      Action, Sci-Fi|     4|  9310|       744800|During the Second...|         David Hogan|  nm0389514 |Pamela Anderson, ...|nm0000097,nm00088...|\n",
            "| tt2382320|      No Time to Die|2021|      PG-13|    163|Action, Adventure...|     7| 15485|      1238800|James Bond has le...|  Cary Joji Fukunaga|  nm1560977 |Daniel Craig, \\nA...|nm0185819,nm18691...|\n",
            "| tt6723592|               Tenet|2020|      PG-13|    150|Action, Sci-Fi, T...|     7| 14250|      1140000|Armed with only o...|   Christopher Nolan|  nm0634240 |John David Washin...|nm0913475,nm15001...|\n",
            "| tt0113277|                Heat|1995|          R|    170|Action, Crime, Drama|     8| 16150|      1292000|A group of high-e...|        Michael Mann|  nm0000520 |Al Pacino, \\nRobe...|nm0000199,nm00001...|\n",
            "+----------+--------------------+----+-----------+-------+--------------------+------+------+-------------+--------------------+--------------------+------------+--------------------+--------------------+\n",
            "only showing top 25 rows\n",
            "\n"
          ]
        }
      ]
    },
    {
      "cell_type": "code",
      "source": [
        "# Check if the DataFrame loaded correctly\n",
        "if df is not None:\n",
        "    # Display summary statistics for all columns\n",
        "    print(\"Summary statistics for all columns:\")\n",
        "    df.describe().show()\n",
        "else:\n",
        "    print(\"Error: DataFrame is None.\")"
      ],
      "metadata": {
        "colab": {
          "base_uri": "https://localhost:8080/"
        },
        "id": "hrsN-JeLkWZm",
        "outputId": "33d20fd9-6611-47cb-e29a-e4fee12e7c9e"
      },
      "execution_count": 9,
      "outputs": [
        {
          "output_type": "stream",
          "name": "stdout",
          "text": [
            "Summary statistics for all columns:\n",
            "+-------+---------+--------------------+------------------+-----------+------------------+------------+------------------+------------------+------------------+--------------------+--------------------+------------+--------------------+--------------------+\n",
            "|summary| movie_id|          movie_name|              year|certificate|           runtime|       genre|            rating|            votes |     gross_revenue|         description|            director| director_id|                star|             star_id|\n",
            "+-------+---------+--------------------+------------------+-----------+------------------+------------+------------------+------------------+------------------+--------------------+--------------------+------------+--------------------+--------------------+\n",
            "|  count|    19258|               19258|             19258|      18487|             19256|       19258|             19258|             19258|             19258|               19258|               19258|       19258|               19256|               19258|\n",
            "|   mean|     null|            Infinity|1998.0790840170318|       null|107.52908184461985|        null|6.2920344791774845|10214.201890123584| 817136.1512098868|                null|                null|        null|                null|                null|\n",
            "| stddev|     null|                 NaN|18.616148036106804|       null|21.726234746237445|        null|1.0612835607599413| 2066.508754497995|165320.70035983936|                null|                null|        null|                null|                null|\n",
            "|    min|tt0003471|\"Dragon Ball Z: R...|              1913|        13+|               100|      Action|                 2|                 0|                 0|\"\"\"A Beginners Gu...| \"\"Knockout\"\" Han...|  nm0000033 |          nm0000142 |          nm0000142 |\n",
            "|    max|tt9896916|            Æon Flux|              2022|          X|                99|War, Western|                 9|              9975|            995600|Æon Flux is a mys...|   Étienne Chatiliez| Éric Rohmer|Óscar Jaenada, \\n...|nm9962502,nm82775...|\n",
            "+-------+---------+--------------------+------------------+-----------+------------------+------------+------------------+------------------+------------------+--------------------+--------------------+------------+--------------------+--------------------+\n",
            "\n"
          ]
        }
      ]
    },
    {
      "cell_type": "code",
      "source": [
        "# Display the schema and column names\n",
        "print(\"Schema:\")\n",
        "df.printSchema()\n",
        "print(\"\\nColumn names:\")\n",
        "print(df.columns)"
      ],
      "metadata": {
        "colab": {
          "base_uri": "https://localhost:8080/"
        },
        "id": "_xaVEw9MlKIq",
        "outputId": "5949327f-be90-4353-b614-ee02ea9f99ee"
      },
      "execution_count": 10,
      "outputs": [
        {
          "output_type": "stream",
          "name": "stdout",
          "text": [
            "Schema:\n",
            "root\n",
            " |-- movie_id: string (nullable = true)\n",
            " |-- movie_name: string (nullable = true)\n",
            " |-- year: string (nullable = true)\n",
            " |-- certificate: string (nullable = true)\n",
            " |-- runtime: string (nullable = true)\n",
            " |-- genre: string (nullable = true)\n",
            " |-- rating: string (nullable = true)\n",
            " |-- votes : string (nullable = true)\n",
            " |-- gross_revenue: string (nullable = true)\n",
            " |-- description: string (nullable = true)\n",
            " |-- director: string (nullable = true)\n",
            " |-- director_id: string (nullable = true)\n",
            " |-- star: string (nullable = true)\n",
            " |-- star_id: string (nullable = true)\n",
            "\n",
            "\n",
            "Column names:\n",
            "['movie_id', 'movie_name', 'year', 'certificate', 'runtime', 'genre', 'rating', 'votes ', 'gross_revenue', 'description', 'director', 'director_id', 'star', 'star_id']\n"
          ]
        }
      ]
    },
    {
      "cell_type": "code",
      "source": [
        "# Check the number of rows and columns\n",
        "print(\"\\nNumber of rows:\", df.count())\n",
        "print(\"Number of columns:\", len(df.columns))"
      ],
      "metadata": {
        "colab": {
          "base_uri": "https://localhost:8080/"
        },
        "id": "KDPaxndZlSTD",
        "outputId": "da745f0e-b149-4cef-9dd3-eb0f871b09e2"
      },
      "execution_count": 11,
      "outputs": [
        {
          "output_type": "stream",
          "name": "stdout",
          "text": [
            "\n",
            "Number of rows: 19258\n",
            "Number of columns: 14\n"
          ]
        }
      ]
    },
    {
      "cell_type": "code",
      "source": [
        "# Display summary statistics for numeric columns\n",
        "numeric_cols = [col_name for col_name, col_type in df.dtypes if col_type.startswith('double') or col_type.startswith('int')]\n",
        "if numeric_cols:\n",
        "    numeric_df = df.select(numeric_cols)\n",
        "    print(\"\\nSummary statistics for numeric columns:\")\n",
        "    numeric_df.describe().show()\n",
        "else:\n",
        "    print(\"\\nNo numeric columns found.\")"
      ],
      "metadata": {
        "colab": {
          "base_uri": "https://localhost:8080/"
        },
        "id": "k6wCJEPYlbyJ",
        "outputId": "75ce760d-86d4-4be8-d99b-ade0fe8f15ab"
      },
      "execution_count": 12,
      "outputs": [
        {
          "output_type": "stream",
          "name": "stdout",
          "text": [
            "\n",
            "No numeric columns found.\n"
          ]
        }
      ]
    },
    {
      "cell_type": "code",
      "source": [
        "df.limit(5)"
      ],
      "metadata": {
        "colab": {
          "base_uri": "https://localhost:8080/"
        },
        "id": "WY3JwAOhnw9V",
        "outputId": "87db43e4-22cf-4e13-d34d-afcc763d6891"
      },
      "execution_count": 13,
      "outputs": [
        {
          "output_type": "execute_result",
          "data": {
            "text/plain": [
              "DataFrame[movie_id: string, movie_name: string, year: string, certificate: string, runtime: string, genre: string, rating: string, votes : string, gross_revenue: string, description: string, director: string, director_id: string, star: string, star_id: string]"
            ]
          },
          "metadata": {},
          "execution_count": 13
        }
      ]
    },
    {
      "cell_type": "code",
      "source": [
        "df.columns"
      ],
      "metadata": {
        "colab": {
          "base_uri": "https://localhost:8080/"
        },
        "id": "NSLWmtcqnztV",
        "outputId": "d5e23970-ad53-49de-b06f-f8926bab152d"
      },
      "execution_count": 14,
      "outputs": [
        {
          "output_type": "execute_result",
          "data": {
            "text/plain": [
              "['movie_id',\n",
              " 'movie_name',\n",
              " 'year',\n",
              " 'certificate',\n",
              " 'runtime',\n",
              " 'genre',\n",
              " 'rating',\n",
              " 'votes ',\n",
              " 'gross_revenue',\n",
              " 'description',\n",
              " 'director',\n",
              " 'director_id',\n",
              " 'star',\n",
              " 'star_id']"
            ]
          },
          "metadata": {},
          "execution_count": 14
        }
      ]
    },
    {
      "cell_type": "code",
      "source": [
        "df.dtypes"
      ],
      "metadata": {
        "colab": {
          "base_uri": "https://localhost:8080/"
        },
        "id": "RubwwWFYn6EE",
        "outputId": "507a252d-5046-4b18-ce41-8de2ea786404"
      },
      "execution_count": 15,
      "outputs": [
        {
          "output_type": "execute_result",
          "data": {
            "text/plain": [
              "[('movie_id', 'string'),\n",
              " ('movie_name', 'string'),\n",
              " ('year', 'string'),\n",
              " ('certificate', 'string'),\n",
              " ('runtime', 'string'),\n",
              " ('genre', 'string'),\n",
              " ('rating', 'string'),\n",
              " ('votes ', 'string'),\n",
              " ('gross_revenue', 'string'),\n",
              " ('description', 'string'),\n",
              " ('director', 'string'),\n",
              " ('director_id', 'string'),\n",
              " ('star', 'string'),\n",
              " ('star_id', 'string')]"
            ]
          },
          "metadata": {},
          "execution_count": 15
        }
      ]
    },
    {
      "cell_type": "code",
      "source": [
        "df.printSchema()"
      ],
      "metadata": {
        "colab": {
          "base_uri": "https://localhost:8080/"
        },
        "id": "ulJ81tAfn_q5",
        "outputId": "5ad81320-cbf6-4ff4-af0a-d8de6f065bb1"
      },
      "execution_count": 16,
      "outputs": [
        {
          "output_type": "stream",
          "name": "stdout",
          "text": [
            "root\n",
            " |-- movie_id: string (nullable = true)\n",
            " |-- movie_name: string (nullable = true)\n",
            " |-- year: string (nullable = true)\n",
            " |-- certificate: string (nullable = true)\n",
            " |-- runtime: string (nullable = true)\n",
            " |-- genre: string (nullable = true)\n",
            " |-- rating: string (nullable = true)\n",
            " |-- votes : string (nullable = true)\n",
            " |-- gross_revenue: string (nullable = true)\n",
            " |-- description: string (nullable = true)\n",
            " |-- director: string (nullable = true)\n",
            " |-- director_id: string (nullable = true)\n",
            " |-- star: string (nullable = true)\n",
            " |-- star_id: string (nullable = true)\n",
            "\n"
          ]
        }
      ]
    },
    {
      "cell_type": "code",
      "source": [
        "# By readng the schema in the code above we observed the values to be string. This is due to the delimiter or carriage characters which are \"/\",\",\",\":\",\";\". \n",
        "# Hence we specified the delimiter by using sep \",\", which means specifying that the data in the cell is separated by comma. \n",
        "# Now it can be observed that all numeric values are integer \n",
        "df = spark.read.csv('/content/drive/MyDrive/clean.csv', header=True, sep=\",\", inferSchema=True)\n",
        "df.printSchema()"
      ],
      "metadata": {
        "colab": {
          "base_uri": "https://localhost:8080/"
        },
        "id": "TzEptN19oCcv",
        "outputId": "814fd4ee-4521-43e2-b670-e10dd94c4daa"
      },
      "execution_count": 17,
      "outputs": [
        {
          "output_type": "stream",
          "name": "stdout",
          "text": [
            "root\n",
            " |-- movie_id: string (nullable = true)\n",
            " |-- movie_name: string (nullable = true)\n",
            " |-- year: string (nullable = true)\n",
            " |-- certificate: string (nullable = true)\n",
            " |-- runtime: integer (nullable = true)\n",
            " |-- genre: string (nullable = true)\n",
            " |-- rating: integer (nullable = true)\n",
            " |-- votes : integer (nullable = true)\n",
            " |-- gross_revenue: integer (nullable = true)\n",
            " |-- description: string (nullable = true)\n",
            " |-- director: string (nullable = true)\n",
            " |-- director_id: string (nullable = true)\n",
            " |-- star: string (nullable = true)\n",
            " |-- star_id: string (nullable = true)\n",
            "\n"
          ]
        }
      ]
    },
    {
      "cell_type": "markdown",
      "source": [
        "# Summary Statistics"
      ],
      "metadata": {
        "id": "UN9YgkEMvnFT"
      }
    },
    {
      "cell_type": "code",
      "source": [
        "# Display summary statistics for numeric columns\n",
        "numeric_cols = [col_name for col_name, col_type in df.dtypes if col_type.startswith('double') or col_type.startswith('int')]\n",
        "if numeric_cols:\n",
        "    numeric_df = df.select(numeric_cols)\n",
        "    print(\"\\nSummary statistics for numeric columns:\")\n",
        "    numeric_df.describe().show()\n",
        "else:\n",
        "    print(\"\\nNo numeric columns found.\")\n",
        "\n",
        "# The rutime mean is 107 with a stadard deviation of 21.72,\n",
        "# The rating mean is 6 with a standard deviation of 1.06,\n",
        "# The votes mean is 10214 with a standar deviation of 2066,\n",
        "# The gross revenue mean is 817,136 (in $) with standard deviation of 165320. "
      ],
      "metadata": {
        "colab": {
          "base_uri": "https://localhost:8080/"
        },
        "id": "FmXdAItCos0c",
        "outputId": "7aa29c4d-c7c3-45a8-ec2a-a22c774e504a"
      },
      "execution_count": 18,
      "outputs": [
        {
          "output_type": "stream",
          "name": "stdout",
          "text": [
            "\n",
            "Summary statistics for numeric columns:\n",
            "+-------+------------------+------------------+------------------+------------------+\n",
            "|summary|           runtime|            rating|            votes |     gross_revenue|\n",
            "+-------+------------------+------------------+------------------+------------------+\n",
            "|  count|             19256|             19258|             19258|             19258|\n",
            "|   mean|107.52908184461985|6.2920344791774845|10214.201890123584| 817136.1512098868|\n",
            "| stddev| 21.72623474623741|1.0612835607599416|  2066.50875449799|165320.70035983936|\n",
            "|    min|                40|                 2|                 0|                 0|\n",
            "|    max|               808|                 9|             76760|           6140800|\n",
            "+-------+------------------+------------------+------------------+------------------+\n",
            "\n"
          ]
        }
      ]
    },
    {
      "cell_type": "markdown",
      "source": [
        "# Deriving a new column from an exisitng one"
      ],
      "metadata": {
        "id": "7xA1L_P1vlbP"
      }
    },
    {
      "cell_type": "code",
      "source": [
        "from pyspark.sql.functions import col\n",
        "from pyspark.sql.functions import lit"
      ],
      "metadata": {
        "id": "Zzu5E9HtuoTR"
      },
      "execution_count": 19,
      "outputs": []
    },
    {
      "cell_type": "code",
      "source": [
        "# Deriving a new column from an exisitng one\n",
        "# We will add a new column called 'movie_certificate' which has the value of movie name and certificate appended together with a space in between \n",
        "from pyspark.sql.functions import concat\n",
        "df = df.withColumn('movie_certificate', concat(col(\"movie_name\"), lit(\" \"), col(\"certificate\")))\n",
        "# lit means literal. It populates the row with the literal value given.\n",
        "# When adding static data / constant values, it is a good practice to use it.\n",
        "df.show(5,truncate=False)"
      ],
      "metadata": {
        "colab": {
          "base_uri": "https://localhost:8080/"
        },
        "id": "ji0ESgsGuBCW",
        "outputId": "790f0357-7ee2-4cd9-e718-5e2988642eaf"
      },
      "execution_count": 20,
      "outputs": [
        {
          "output_type": "stream",
          "name": "stdout",
          "text": [
            "+-----------------+---------------------------------------+----+-----------+-------+-------------------------+------+------+-------------+-----------------------------------------------------------------------------------------------------------------------------------------------------------------------------------------------------------------+------------+------------+------------------+-------+-------------------+\n",
            "|movie_id         |movie_name                             |year|certificate|runtime|genre                    |rating|votes |gross_revenue|description                                                                                                                                                                                                      |director    |director_id |star              |star_id|movie_certificate  |\n",
            "+-----------------+---------------------------------------+----+-----------+-------+-------------------------+------+------+-------------+-----------------------------------------------------------------------------------------------------------------------------------------------------------------------------------------------------------------+------------+------------+------------------+-------+-------------------+\n",
            "|tt1825683        |Black Panther                          |2018|PG-13      |134    |Action, Adventure, Sci-Fi|7     |12730 |1018400      |T'Challa, heir to the hidden but advanced kingdom of Wakanda, must step forward to lead his people into a new future and must confront a challenger from his country's past.                                     |Ryan Coogler|  nm3363032 |Chadwick Boseman, |null   |Black Panther PG-13|\n",
            "|Michael B. Jordan|                                       |null|null       |null   |null                     |null  |null  |null         |null                                                                                                                                                                                                             |null        |null        |null              |null   |null               |\n",
            "|Lupita Nyong'o   |                                       |null|null       |null   |null                     |null  |null  |null         |null                                                                                                                                                                                                             |null        |null        |null              |null   |null               |\n",
            "|Danai Gurira\"    |nm1569276,nm0430107,nm2143282,nm1775091|null|null       |null   |null                     |null  |null  |null         |null                                                                                                                                                                                                             |null        |null        |null              |null   |null               |\n",
            "|tt0092099        |Top Gun                                |1986|PG         |109    |Action, Drama            |7     |10355 |828400       |As students at the United States Navy's elite fighter weapons school compete to be best in the class, one daring young pilot learns a few things from a civilian instructor that are not taught in the classroom.|Tony Scott  |  nm0001716 |Tom Cruise,       |null   |Top Gun PG         |\n",
            "+-----------------+---------------------------------------+----+-----------+-------+-------------------------+------+------+-------------+-----------------------------------------------------------------------------------------------------------------------------------------------------------------------------------------------------------------+------------+------------+------------------+-------+-------------------+\n",
            "only showing top 5 rows\n",
            "\n"
          ]
        }
      ]
    },
    {
      "cell_type": "markdown",
      "source": [
        "# Grouping By Columns"
      ],
      "metadata": {
        "id": "QmyyfVqDvhXf"
      }
    },
    {
      "cell_type": "code",
      "source": [
        "# Group By a column in PySpark\n",
        "df.groupBy('certificate').count().show(5)"
      ],
      "metadata": {
        "colab": {
          "base_uri": "https://localhost:8080/"
        },
        "id": "Ulg3xb4iu9aY",
        "outputId": "dc81c7d3-41ef-4ee8-c05b-b4c2c8e9a537"
      },
      "execution_count": 21,
      "outputs": [
        {
          "output_type": "stream",
          "name": "stdout",
          "text": [
            "+--------------------+-----+\n",
            "|         certificate|count|\n",
            "+--------------------+-----+\n",
            "|           Not Rated| 1955|\n",
            "|             Unrated|  289|\n",
            "|nm7248321,nm72510...|    2|\n",
            "|            Approved|  347|\n",
            "|              Passed|  328|\n",
            "+--------------------+-----+\n",
            "only showing top 5 rows\n",
            "\n"
          ]
        }
      ]
    },
    {
      "cell_type": "code",
      "source": [
        "# Group By a column in PySpark\n",
        "df.groupBy('genre').count().show(5)"
      ],
      "metadata": {
        "colab": {
          "base_uri": "https://localhost:8080/"
        },
        "id": "_DKpvjkyvZKN",
        "outputId": "5c7b62c3-8ddc-43cf-ccc3-832d0bbafa61"
      },
      "execution_count": 22,
      "outputs": [
        {
          "output_type": "stream",
          "name": "stdout",
          "text": [
            "+--------------------+-----+\n",
            "|               genre|count|\n",
            "+--------------------+-----+\n",
            "|    Action, Thriller|  161|\n",
            "|Adventure, Horror...|    2|\n",
            "|Action, Drama, Music|    9|\n",
            "|Crime, Drama, Action|    2|\n",
            "|     Crime, Thriller|   88|\n",
            "+--------------------+-----+\n",
            "only showing top 5 rows\n",
            "\n"
          ]
        }
      ]
    },
    {
      "cell_type": "code",
      "source": [
        "!pip install pyspark_dist_explore\n",
        "from pyspark.sql import SparkSession\n",
        "import pyspark_dist_explore"
      ],
      "metadata": {
        "colab": {
          "base_uri": "https://localhost:8080/"
        },
        "id": "l1AygMMaA4Z0",
        "outputId": "f67c7d07-11d5-4512-f09b-33a49e55cfe5"
      },
      "execution_count": 23,
      "outputs": [
        {
          "output_type": "stream",
          "name": "stdout",
          "text": [
            "Looking in indexes: https://pypi.org/simple, https://us-python.pkg.dev/colab-wheels/public/simple/\n",
            "Collecting pyspark_dist_explore\n",
            "  Downloading pyspark_dist_explore-0.1.8-py3-none-any.whl (7.2 kB)\n",
            "Requirement already satisfied: pandas in /usr/local/lib/python3.9/dist-packages (from pyspark_dist_explore) (1.4.4)\n",
            "Requirement already satisfied: scipy in /usr/local/lib/python3.9/dist-packages (from pyspark_dist_explore) (1.10.1)\n",
            "Requirement already satisfied: numpy in /usr/local/lib/python3.9/dist-packages (from pyspark_dist_explore) (1.22.4)\n",
            "Requirement already satisfied: matplotlib in /usr/local/lib/python3.9/dist-packages (from pyspark_dist_explore) (3.7.1)\n",
            "Requirement already satisfied: kiwisolver>=1.0.1 in /usr/local/lib/python3.9/dist-packages (from matplotlib->pyspark_dist_explore) (1.4.4)\n",
            "Requirement already satisfied: pyparsing>=2.3.1 in /usr/local/lib/python3.9/dist-packages (from matplotlib->pyspark_dist_explore) (3.0.9)\n",
            "Requirement already satisfied: python-dateutil>=2.7 in /usr/local/lib/python3.9/dist-packages (from matplotlib->pyspark_dist_explore) (2.8.2)\n",
            "Requirement already satisfied: fonttools>=4.22.0 in /usr/local/lib/python3.9/dist-packages (from matplotlib->pyspark_dist_explore) (4.39.3)\n",
            "Requirement already satisfied: cycler>=0.10 in /usr/local/lib/python3.9/dist-packages (from matplotlib->pyspark_dist_explore) (0.11.0)\n",
            "Requirement already satisfied: pillow>=6.2.0 in /usr/local/lib/python3.9/dist-packages (from matplotlib->pyspark_dist_explore) (8.4.0)\n",
            "Requirement already satisfied: packaging>=20.0 in /usr/local/lib/python3.9/dist-packages (from matplotlib->pyspark_dist_explore) (23.0)\n",
            "Requirement already satisfied: importlib-resources>=3.2.0 in /usr/local/lib/python3.9/dist-packages (from matplotlib->pyspark_dist_explore) (5.12.0)\n",
            "Requirement already satisfied: contourpy>=1.0.1 in /usr/local/lib/python3.9/dist-packages (from matplotlib->pyspark_dist_explore) (1.0.7)\n",
            "Requirement already satisfied: pytz>=2020.1 in /usr/local/lib/python3.9/dist-packages (from pandas->pyspark_dist_explore) (2022.7.1)\n",
            "Requirement already satisfied: zipp>=3.1.0 in /usr/local/lib/python3.9/dist-packages (from importlib-resources>=3.2.0->matplotlib->pyspark_dist_explore) (3.15.0)\n",
            "Requirement already satisfied: six>=1.5 in /usr/local/lib/python3.9/dist-packages (from python-dateutil>=2.7->matplotlib->pyspark_dist_explore) (1.16.0)\n",
            "Installing collected packages: pyspark_dist_explore\n",
            "Successfully installed pyspark_dist_explore-0.1.8\n"
          ]
        }
      ]
    },
    {
      "cell_type": "code",
      "source": [
        "from pyspark.sql import SparkSession\n",
        "from pyspark.ml.feature import VectorAssembler\n",
        "from pyspark.ml.clustering import KMeans\n",
        "\n",
        "# Create a SparkSession\n",
        "spark = SparkSession.builder.appName(\"ClusteringExample\").getOrCreate()\n",
        "\n",
        "# Load the data into a PySpark DataFrame\n",
        "#data = spark.read.csv(\"df.csv\", header=True, inferSchema=True)\n",
        "\n",
        "# Prepare the data for clustering\n",
        "assembler = VectorAssembler(inputCols=[\"runtime\", \"rating\", \"votes \"], outputCol=\"features\", handleInvalid=\"skip\")\n",
        "data = assembler.transform(df).select(\"features\")\n",
        "\n"
      ],
      "metadata": {
        "id": "IX3DSPnQB9TB"
      },
      "execution_count": 34,
      "outputs": []
    },
    {
      "cell_type": "code",
      "source": [
        "# Train a k-means clustering model\n",
        "kmeans = KMeans(k=2, seed=1)\n",
        "model = kmeans.fit(data)"
      ],
      "metadata": {
        "id": "PHxGaKZg8WVA"
      },
      "execution_count": 36,
      "outputs": []
    },
    {
      "cell_type": "code",
      "source": [
        "from pyspark.ml.clustering import KMeans\n",
        "from pyspark.ml.evaluation import ClusteringEvaluator"
      ],
      "metadata": {
        "id": "qVwabukf9iIN"
      },
      "execution_count": 43,
      "outputs": []
    },
    {
      "cell_type": "code",
      "source": [
        "# Evaluate the model\n",
        "#wssse = model.computeCost(data)\n",
        "#print(\"Within Set Sum of Squared Errors = \" + str(wssse))\n",
        "\n",
        "\n",
        "wssse = model.summary.trainingCost\n",
        "print(\"Within Set Sum of Squared Errors = \" + str(wssse))\n",
        "\n",
        "# Make predictions on new data\n",
        "predictions = model.transform(data)\n",
        "\n",
        "# In the above example, we first load the data, train the KMeans model, compute the cost using the computeCost() method from the KMeans class, and then evaluate the clustering using the ClusteringEvaluator class.\n",
        "# The Within Set Sum of Squared Errors (WSSSE) is a measure of the total squared distance between each point in the dataset and its assigned cluster center in a K-means clustering model. A lower WSSSE indicates better clustering, as it suggests that the points in each cluster are closer to their respective cluster centers. In the given example, the WSSSE value is 38959147433.03747. \n",
        "# This value is just a number and it is hard to interpret whether it is high or low without any context. However, we can compare this value with the WSSSE values obtained from other clustering models applied to the same dataset, to determine which model performs better.\n",
        "# In general, while comparing the WSSSE values of different clustering models, a lower value of WSSSE indicates better clustering as it suggests that the points in each cluster are closer to their respective cluster centers. However, the optimal value of WSSSE largely depends on the context of the problem and the specific dataset being used."
      ],
      "metadata": {
        "colab": {
          "base_uri": "https://localhost:8080/"
        },
        "id": "of9skR6T-V5g",
        "outputId": "c202b1c0-0813-4310-d663-d88af3a18070"
      },
      "execution_count": 47,
      "outputs": [
        {
          "output_type": "stream",
          "name": "stdout",
          "text": [
            "Within Set Sum of Squared Errors = 38959147433.03747\n"
          ]
        }
      ]
    },
    {
      "cell_type": "code",
      "source": [
        "predictions = model.transform(data)\n",
        "evaluator = ClusteringEvaluator()\n",
        "silhouette = evaluator.evaluate(predictions)\n",
        "print(\"Silhouette Score:\", silhouette)\n",
        "\n",
        "# The Silhouette score is a measure of how similar an object is to its own cluster compared to other clusters, and ranges from -1 to 1, with higher values indicating better clustering results."
      ],
      "metadata": {
        "colab": {
          "base_uri": "https://localhost:8080/"
        },
        "id": "k__c-uxJBOR_",
        "outputId": "2d1803c3-0f9b-4fed-ef96-5efe7e9bc455"
      },
      "execution_count": 49,
      "outputs": [
        {
          "output_type": "stream",
          "name": "stdout",
          "text": [
            "Silhouette Score: 0.696324522863174\n"
          ]
        }
      ]
    },
    {
      "cell_type": "markdown",
      "source": [
        "# References\n",
        "https://medium.datadriveninvestor.com/big-data-analytics-with-pyspark-pyspark-on-google-colab-5abe2322221"
      ],
      "metadata": {
        "id": "hoF7tDgN3FpO"
      }
    }
  ]
}